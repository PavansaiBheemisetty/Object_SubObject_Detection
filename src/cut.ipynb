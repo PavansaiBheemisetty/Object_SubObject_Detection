{
 "cells": [
  {
   "cell_type": "code",
   "execution_count": null,
   "id": "adb39992-d471-46a9-ad55-1ce206973f14",
   "metadata": {},
   "outputs": [],
   "source": [
    "from ultralytics import YOLO\n",
    "import cv2\n",
    "\n",
    "model = YOLO(\"yolov8n.pt\") \n",
    "\n",
    "# Open the video\n",
    "video_path = \"test.mp4\"\n",
    "cap = cv2.VideoCapture(video_path)\n",
    "\n",
    "import os\n",
    "output_dir = \"../data/cropped_images\"\n",
    "os.makedirs(output_dir, exist_ok=True)\n",
    "\n",
    "frame_count = 0\n",
    "\n",
    "while cap.isOpened():\n",
    "    ret, frame = cap.read()\n",
    "    if not ret:\n",
    "        break\n",
    "    \n",
    "\n",
    "    results = model(frame)\n",
    "\n",
    "\n",
    "    for result in results:\n",
    "        for i, box in enumerate(result.boxes.xyxy): \n",
    "            x1, y1, x2, y2 = map(int, box) \n",
    "            cropped = frame[y1:y2, x1:x2]  \n",
    "            \n",
    "           \n",
    "            crop_path = os.path.join(output_dir, f\"frame{frame_count}_object{i}.jpg\")\n",
    "            cv2.imwrite(crop_path, cropped)\n",
    "    \n",
    "    frame_count += 1\n",
    "\n",
    "cap.release()\n",
    "print(f\"Saved cropped images in: {output_dir}\")\n"
   ]
  }
 ],
 "metadata": {
  "kernelspec": {
   "display_name": "Python 3 (ipykernel)",
   "language": "python",
   "name": "python3"
  },
  "language_info": {
   "codemirror_mode": {
    "name": "ipython",
    "version": 3
   },
   "file_extension": ".py",
   "mimetype": "text/x-python",
   "name": "python",
   "nbconvert_exporter": "python",
   "pygments_lexer": "ipython3",
   "version": "3.11.5"
  }
 },
 "nbformat": 4,
 "nbformat_minor": 5
}
